{
 "cells": [
  {
   "cell_type": "code",
   "execution_count": 64,
   "metadata": {},
   "outputs": [],
   "source": [
    "### Getting the CSV file for the  season 18-19"
   ]
  },
  {
   "cell_type": "code",
   "execution_count": 1,
   "metadata": {},
   "outputs": [],
   "source": [
    "import pandas as pd\n",
    "import seaborn as sns\n",
    "import matplotlib.pyplot as plt"
   ]
  },
  {
   "cell_type": "code",
   "execution_count": 2,
   "metadata": {},
   "outputs": [
    {
     "data": {
      "text/html": [
       "<div>\n",
       "<style scoped>\n",
       "    .dataframe tbody tr th:only-of-type {\n",
       "        vertical-align: middle;\n",
       "    }\n",
       "\n",
       "    .dataframe tbody tr th {\n",
       "        vertical-align: top;\n",
       "    }\n",
       "\n",
       "    .dataframe thead th {\n",
       "        text-align: right;\n",
       "    }\n",
       "</style>\n",
       "<table border=\"1\" class=\"dataframe\">\n",
       "  <thead>\n",
       "    <tr style=\"text-align: right;\">\n",
       "      <th></th>\n",
       "      <th>players</th>\n",
       "      <th>school</th>\n",
       "      <th>position</th>\n",
       "      <th>goals</th>\n",
       "      <th>assists</th>\n",
       "      <th>points</th>\n",
       "      <th>powerplay_points</th>\n",
       "      <th>plus</th>\n",
       "      <th>minus</th>\n",
       "      <th>blocks</th>\n",
       "      <th>penalties</th>\n",
       "    </tr>\n",
       "  </thead>\n",
       "  <tbody>\n",
       "    <tr>\n",
       "      <td>0</td>\n",
       "      <td>Taro Hirose</td>\n",
       "      <td>Michigan State</td>\n",
       "      <td>F</td>\n",
       "      <td>15</td>\n",
       "      <td>35</td>\n",
       "      <td>50</td>\n",
       "      <td>16</td>\n",
       "      <td>40</td>\n",
       "      <td>26</td>\n",
       "      <td>16</td>\n",
       "      <td>6</td>\n",
       "    </tr>\n",
       "    <tr>\n",
       "      <td>1</td>\n",
       "      <td>Alex Limoges</td>\n",
       "      <td>Penn State</td>\n",
       "      <td>F</td>\n",
       "      <td>23</td>\n",
       "      <td>27</td>\n",
       "      <td>50</td>\n",
       "      <td>10</td>\n",
       "      <td>54</td>\n",
       "      <td>31</td>\n",
       "      <td>31</td>\n",
       "      <td>5</td>\n",
       "    </tr>\n",
       "    <tr>\n",
       "      <td>2</td>\n",
       "      <td>Cale Makar (COL)</td>\n",
       "      <td>Massachusetts</td>\n",
       "      <td>D</td>\n",
       "      <td>16</td>\n",
       "      <td>33</td>\n",
       "      <td>49</td>\n",
       "      <td>15</td>\n",
       "      <td>51</td>\n",
       "      <td>19</td>\n",
       "      <td>41</td>\n",
       "      <td>14</td>\n",
       "    </tr>\n",
       "    <tr>\n",
       "      <td>3</td>\n",
       "      <td>Adam Fox (CAR)</td>\n",
       "      <td>Harvard</td>\n",
       "      <td>D</td>\n",
       "      <td>9</td>\n",
       "      <td>39</td>\n",
       "      <td>48</td>\n",
       "      <td>23</td>\n",
       "      <td>44</td>\n",
       "      <td>21</td>\n",
       "      <td>45</td>\n",
       "      <td>7</td>\n",
       "    </tr>\n",
       "    <tr>\n",
       "      <td>4</td>\n",
       "      <td>Joseph Duszak</td>\n",
       "      <td>Mercyhurst</td>\n",
       "      <td>D</td>\n",
       "      <td>16</td>\n",
       "      <td>31</td>\n",
       "      <td>47</td>\n",
       "      <td>14</td>\n",
       "      <td>44</td>\n",
       "      <td>36</td>\n",
       "      <td>32</td>\n",
       "      <td>17</td>\n",
       "    </tr>\n",
       "    <tr>\n",
       "      <td>...</td>\n",
       "      <td>...</td>\n",
       "      <td>...</td>\n",
       "      <td>...</td>\n",
       "      <td>...</td>\n",
       "      <td>...</td>\n",
       "      <td>...</td>\n",
       "      <td>...</td>\n",
       "      <td>...</td>\n",
       "      <td>...</td>\n",
       "      <td>...</td>\n",
       "      <td>...</td>\n",
       "    </tr>\n",
       "    <tr>\n",
       "      <td>102</td>\n",
       "      <td>Zach Evancho</td>\n",
       "      <td>Army West Point</td>\n",
       "      <td>F</td>\n",
       "      <td>10</td>\n",
       "      <td>19</td>\n",
       "      <td>29</td>\n",
       "      <td>18</td>\n",
       "      <td>14</td>\n",
       "      <td>34</td>\n",
       "      <td>10</td>\n",
       "      <td>19</td>\n",
       "    </tr>\n",
       "    <tr>\n",
       "      <td>103</td>\n",
       "      <td>Scott Perunovich (STL)</td>\n",
       "      <td>Minnesota Duluth</td>\n",
       "      <td>D</td>\n",
       "      <td>3</td>\n",
       "      <td>26</td>\n",
       "      <td>29</td>\n",
       "      <td>13</td>\n",
       "      <td>38</td>\n",
       "      <td>29</td>\n",
       "      <td>36</td>\n",
       "      <td>16</td>\n",
       "    </tr>\n",
       "    <tr>\n",
       "      <td>104</td>\n",
       "      <td>Jarid Lukosevicius</td>\n",
       "      <td>Denver</td>\n",
       "      <td>F</td>\n",
       "      <td>19</td>\n",
       "      <td>10</td>\n",
       "      <td>29</td>\n",
       "      <td>8</td>\n",
       "      <td>34</td>\n",
       "      <td>14</td>\n",
       "      <td>22</td>\n",
       "      <td>10</td>\n",
       "    </tr>\n",
       "    <tr>\n",
       "      <td>105</td>\n",
       "      <td>Marc Del Gaizo (99)</td>\n",
       "      <td>Massachusetts</td>\n",
       "      <td>D</td>\n",
       "      <td>13</td>\n",
       "      <td>16</td>\n",
       "      <td>29</td>\n",
       "      <td>14</td>\n",
       "      <td>48</td>\n",
       "      <td>17</td>\n",
       "      <td>36</td>\n",
       "      <td>13</td>\n",
       "    </tr>\n",
       "    <tr>\n",
       "      <td>106</td>\n",
       "      <td>Scott Conway</td>\n",
       "      <td>Providence</td>\n",
       "      <td>F</td>\n",
       "      <td>15</td>\n",
       "      <td>14</td>\n",
       "      <td>29</td>\n",
       "      <td>10</td>\n",
       "      <td>29</td>\n",
       "      <td>21</td>\n",
       "      <td>17</td>\n",
       "      <td>19</td>\n",
       "    </tr>\n",
       "  </tbody>\n",
       "</table>\n",
       "<p>107 rows × 11 columns</p>\n",
       "</div>"
      ],
      "text/plain": [
       "                    players            school position  goals  assists  \\\n",
       "0               Taro Hirose    Michigan State        F     15       35   \n",
       "1              Alex Limoges        Penn State        F     23       27   \n",
       "2          Cale Makar (COL)     Massachusetts        D     16       33   \n",
       "3            Adam Fox (CAR)           Harvard        D      9       39   \n",
       "4             Joseph Duszak        Mercyhurst        D     16       31   \n",
       "..                      ...               ...      ...    ...      ...   \n",
       "102            Zach Evancho   Army West Point        F     10       19   \n",
       "103  Scott Perunovich (STL)  Minnesota Duluth        D      3       26   \n",
       "104      Jarid Lukosevicius            Denver        F     19       10   \n",
       "105     Marc Del Gaizo (99)     Massachusetts        D     13       16   \n",
       "106            Scott Conway        Providence        F     15       14   \n",
       "\n",
       "     points  powerplay_points  plus  minus  blocks  penalties  \n",
       "0        50                16    40     26      16          6  \n",
       "1        50                10    54     31      31          5  \n",
       "2        49                15    51     19      41         14  \n",
       "3        48                23    44     21      45          7  \n",
       "4        47                14    44     36      32         17  \n",
       "..      ...               ...   ...    ...     ...        ...  \n",
       "102      29                18    14     34      10         19  \n",
       "103      29                13    38     29      36         16  \n",
       "104      29                 8    34     14      22         10  \n",
       "105      29                14    48     17      36         13  \n",
       "106      29                10    29     21      17         19  \n",
       "\n",
       "[107 rows x 11 columns]"
      ]
     },
     "execution_count": 2,
     "metadata": {},
     "output_type": "execute_result"
    }
   ],
   "source": [
    "season1819 = pd.read_csv('data/Season18-19.csv', sep=',', usecols=['players', 'school','position', 'goals','assists','points','powerplay_points','penalties','blocks', 'minus','plus'])\n",
    "season1819"
   ]
  },
  {
   "cell_type": "code",
   "execution_count": 3,
   "metadata": {},
   "outputs": [
    {
     "data": {
      "text/html": [
       "<div>\n",
       "<style scoped>\n",
       "    .dataframe tbody tr th:only-of-type {\n",
       "        vertical-align: middle;\n",
       "    }\n",
       "\n",
       "    .dataframe tbody tr th {\n",
       "        vertical-align: top;\n",
       "    }\n",
       "\n",
       "    .dataframe thead th {\n",
       "        text-align: right;\n",
       "    }\n",
       "</style>\n",
       "<table border=\"1\" class=\"dataframe\">\n",
       "  <thead>\n",
       "    <tr style=\"text-align: right;\">\n",
       "      <th></th>\n",
       "      <th>players</th>\n",
       "      <th>school</th>\n",
       "      <th>position</th>\n",
       "      <th>goals</th>\n",
       "      <th>assists</th>\n",
       "      <th>points</th>\n",
       "      <th>powerplay_points</th>\n",
       "      <th>plus</th>\n",
       "      <th>minus</th>\n",
       "      <th>blocks</th>\n",
       "      <th>penalties</th>\n",
       "    </tr>\n",
       "  </thead>\n",
       "  <tbody>\n",
       "    <tr>\n",
       "      <td>0</td>\n",
       "      <td>Cale Makar (COL)</td>\n",
       "      <td>Massachusetts</td>\n",
       "      <td>D</td>\n",
       "      <td>16</td>\n",
       "      <td>33</td>\n",
       "      <td>49</td>\n",
       "      <td>15</td>\n",
       "      <td>51</td>\n",
       "      <td>19</td>\n",
       "      <td>41</td>\n",
       "      <td>14</td>\n",
       "    </tr>\n",
       "    <tr>\n",
       "      <td>1</td>\n",
       "      <td>Adam Fox (CAR)</td>\n",
       "      <td>Harvard</td>\n",
       "      <td>D</td>\n",
       "      <td>9</td>\n",
       "      <td>39</td>\n",
       "      <td>48</td>\n",
       "      <td>23</td>\n",
       "      <td>44</td>\n",
       "      <td>21</td>\n",
       "      <td>45</td>\n",
       "      <td>7</td>\n",
       "    </tr>\n",
       "    <tr>\n",
       "      <td>2</td>\n",
       "      <td>Rem Pitlick (NSH)</td>\n",
       "      <td>Minnesota</td>\n",
       "      <td>F</td>\n",
       "      <td>21</td>\n",
       "      <td>24</td>\n",
       "      <td>45</td>\n",
       "      <td>22</td>\n",
       "      <td>32</td>\n",
       "      <td>28</td>\n",
       "      <td>20</td>\n",
       "      <td>15</td>\n",
       "    </tr>\n",
       "    <tr>\n",
       "      <td>3</td>\n",
       "      <td>Evan Barratt (CHI)</td>\n",
       "      <td>Penn State</td>\n",
       "      <td>F</td>\n",
       "      <td>16</td>\n",
       "      <td>27</td>\n",
       "      <td>43</td>\n",
       "      <td>7</td>\n",
       "      <td>43</td>\n",
       "      <td>24</td>\n",
       "      <td>16</td>\n",
       "      <td>22</td>\n",
       "    </tr>\n",
       "    <tr>\n",
       "      <td>4</td>\n",
       "      <td>Brandon Kruse (VGK)</td>\n",
       "      <td>Bowling Green</td>\n",
       "      <td>F</td>\n",
       "      <td>10</td>\n",
       "      <td>31</td>\n",
       "      <td>41</td>\n",
       "      <td>21</td>\n",
       "      <td>31</td>\n",
       "      <td>16</td>\n",
       "      <td>14</td>\n",
       "      <td>15</td>\n",
       "    </tr>\n",
       "    <tr>\n",
       "      <td>5</td>\n",
       "      <td>John Leonard (SJS)</td>\n",
       "      <td>Massachusetts</td>\n",
       "      <td>F</td>\n",
       "      <td>16</td>\n",
       "      <td>24</td>\n",
       "      <td>40</td>\n",
       "      <td>18</td>\n",
       "      <td>30</td>\n",
       "      <td>16</td>\n",
       "      <td>15</td>\n",
       "      <td>8</td>\n",
       "    </tr>\n",
       "    <tr>\n",
       "      <td>6</td>\n",
       "      <td>Chase Priskie (WSH)</td>\n",
       "      <td>Quinnipiac</td>\n",
       "      <td>D</td>\n",
       "      <td>17</td>\n",
       "      <td>22</td>\n",
       "      <td>39</td>\n",
       "      <td>23</td>\n",
       "      <td>40</td>\n",
       "      <td>22</td>\n",
       "      <td>35</td>\n",
       "      <td>6</td>\n",
       "    </tr>\n",
       "    <tr>\n",
       "      <td>7</td>\n",
       "      <td>Jack Dugan (VGK)</td>\n",
       "      <td>Providence</td>\n",
       "      <td>F</td>\n",
       "      <td>10</td>\n",
       "      <td>29</td>\n",
       "      <td>39</td>\n",
       "      <td>12</td>\n",
       "      <td>32</td>\n",
       "      <td>27</td>\n",
       "      <td>8</td>\n",
       "      <td>24</td>\n",
       "    </tr>\n",
       "    <tr>\n",
       "      <td>8</td>\n",
       "      <td>Joel Farabee (PHI)</td>\n",
       "      <td>Boston University</td>\n",
       "      <td>F</td>\n",
       "      <td>17</td>\n",
       "      <td>19</td>\n",
       "      <td>36</td>\n",
       "      <td>15</td>\n",
       "      <td>27</td>\n",
       "      <td>23</td>\n",
       "      <td>26</td>\n",
       "      <td>19</td>\n",
       "    </tr>\n",
       "    <tr>\n",
       "      <td>9</td>\n",
       "      <td>Jeremy Davies (NJD)</td>\n",
       "      <td>Northeastern</td>\n",
       "      <td>D</td>\n",
       "      <td>8</td>\n",
       "      <td>28</td>\n",
       "      <td>36</td>\n",
       "      <td>21</td>\n",
       "      <td>40</td>\n",
       "      <td>32</td>\n",
       "      <td>58</td>\n",
       "      <td>15</td>\n",
       "    </tr>\n",
       "    <tr>\n",
       "      <td>10</td>\n",
       "      <td>David Cotton (CAR)</td>\n",
       "      <td>Boston College</td>\n",
       "      <td>F</td>\n",
       "      <td>23</td>\n",
       "      <td>13</td>\n",
       "      <td>36</td>\n",
       "      <td>14</td>\n",
       "      <td>26</td>\n",
       "      <td>34</td>\n",
       "      <td>17</td>\n",
       "      <td>10</td>\n",
       "    </tr>\n",
       "    <tr>\n",
       "      <td>11</td>\n",
       "      <td>Morgan Barron (NYR)</td>\n",
       "      <td>Cornell</td>\n",
       "      <td>F</td>\n",
       "      <td>15</td>\n",
       "      <td>19</td>\n",
       "      <td>34</td>\n",
       "      <td>15</td>\n",
       "      <td>27</td>\n",
       "      <td>18</td>\n",
       "      <td>20</td>\n",
       "      <td>13</td>\n",
       "    </tr>\n",
       "    <tr>\n",
       "      <td>12</td>\n",
       "      <td>Fredrik Olofsson (CHI)</td>\n",
       "      <td>Omaha</td>\n",
       "      <td>F</td>\n",
       "      <td>10</td>\n",
       "      <td>24</td>\n",
       "      <td>34</td>\n",
       "      <td>18</td>\n",
       "      <td>27</td>\n",
       "      <td>41</td>\n",
       "      <td>30</td>\n",
       "      <td>6</td>\n",
       "    </tr>\n",
       "    <tr>\n",
       "      <td>13</td>\n",
       "      <td>Brandon Duhaime (MIN)</td>\n",
       "      <td>Providence</td>\n",
       "      <td>F</td>\n",
       "      <td>11</td>\n",
       "      <td>23</td>\n",
       "      <td>34</td>\n",
       "      <td>10</td>\n",
       "      <td>32</td>\n",
       "      <td>17</td>\n",
       "      <td>16</td>\n",
       "      <td>17</td>\n",
       "    </tr>\n",
       "    <tr>\n",
       "      <td>14</td>\n",
       "      <td>Quinn Hughes (VAN)</td>\n",
       "      <td>Michigan</td>\n",
       "      <td>D</td>\n",
       "      <td>5</td>\n",
       "      <td>28</td>\n",
       "      <td>33</td>\n",
       "      <td>13</td>\n",
       "      <td>36</td>\n",
       "      <td>38</td>\n",
       "      <td>26</td>\n",
       "      <td>8</td>\n",
       "    </tr>\n",
       "    <tr>\n",
       "      <td>15</td>\n",
       "      <td>Dante Fabbro (NSH)</td>\n",
       "      <td>Boston University</td>\n",
       "      <td>D</td>\n",
       "      <td>7</td>\n",
       "      <td>26</td>\n",
       "      <td>33</td>\n",
       "      <td>15</td>\n",
       "      <td>34</td>\n",
       "      <td>37</td>\n",
       "      <td>82</td>\n",
       "      <td>14</td>\n",
       "    </tr>\n",
       "    <tr>\n",
       "      <td>16</td>\n",
       "      <td>Reilly Walsh (NJD)</td>\n",
       "      <td>Harvard</td>\n",
       "      <td>D</td>\n",
       "      <td>12</td>\n",
       "      <td>19</td>\n",
       "      <td>31</td>\n",
       "      <td>18</td>\n",
       "      <td>25</td>\n",
       "      <td>27</td>\n",
       "      <td>27</td>\n",
       "      <td>6</td>\n",
       "    </tr>\n",
       "    <tr>\n",
       "      <td>17</td>\n",
       "      <td>Will Lockwood (VAN)</td>\n",
       "      <td>Michigan</td>\n",
       "      <td>F</td>\n",
       "      <td>16</td>\n",
       "      <td>15</td>\n",
       "      <td>31</td>\n",
       "      <td>11</td>\n",
       "      <td>27</td>\n",
       "      <td>19</td>\n",
       "      <td>23</td>\n",
       "      <td>12</td>\n",
       "    </tr>\n",
       "    <tr>\n",
       "      <td>18</td>\n",
       "      <td>Ryan Poehling (MTL)</td>\n",
       "      <td>St. Cloud State</td>\n",
       "      <td>F</td>\n",
       "      <td>8</td>\n",
       "      <td>23</td>\n",
       "      <td>31</td>\n",
       "      <td>13</td>\n",
       "      <td>35</td>\n",
       "      <td>23</td>\n",
       "      <td>17</td>\n",
       "      <td>13</td>\n",
       "    </tr>\n",
       "    <tr>\n",
       "      <td>19</td>\n",
       "      <td>Brent Gates Jr. (ANA)</td>\n",
       "      <td>Minnesota</td>\n",
       "      <td>F</td>\n",
       "      <td>13</td>\n",
       "      <td>18</td>\n",
       "      <td>31</td>\n",
       "      <td>11</td>\n",
       "      <td>29</td>\n",
       "      <td>28</td>\n",
       "      <td>18</td>\n",
       "      <td>2</td>\n",
       "    </tr>\n",
       "    <tr>\n",
       "      <td>20</td>\n",
       "      <td>Tanner Laczynski (PHI)</td>\n",
       "      <td>Ohio State</td>\n",
       "      <td>F</td>\n",
       "      <td>10</td>\n",
       "      <td>20</td>\n",
       "      <td>30</td>\n",
       "      <td>16</td>\n",
       "      <td>20</td>\n",
       "      <td>18</td>\n",
       "      <td>15</td>\n",
       "      <td>7</td>\n",
       "    </tr>\n",
       "    <tr>\n",
       "      <td>21</td>\n",
       "      <td>Hugh McGing (STL)</td>\n",
       "      <td>Western Michigan</td>\n",
       "      <td>F</td>\n",
       "      <td>16</td>\n",
       "      <td>14</td>\n",
       "      <td>30</td>\n",
       "      <td>11</td>\n",
       "      <td>28</td>\n",
       "      <td>26</td>\n",
       "      <td>23</td>\n",
       "      <td>22</td>\n",
       "    </tr>\n",
       "    <tr>\n",
       "      <td>22</td>\n",
       "      <td>Emilio Pettersen (CGY)</td>\n",
       "      <td>Denver</td>\n",
       "      <td>F</td>\n",
       "      <td>6</td>\n",
       "      <td>24</td>\n",
       "      <td>30</td>\n",
       "      <td>10</td>\n",
       "      <td>29</td>\n",
       "      <td>19</td>\n",
       "      <td>21</td>\n",
       "      <td>8</td>\n",
       "    </tr>\n",
       "    <tr>\n",
       "      <td>23</td>\n",
       "      <td>Kasper Björkqvist (PIT)</td>\n",
       "      <td>Providence</td>\n",
       "      <td>F</td>\n",
       "      <td>17</td>\n",
       "      <td>13</td>\n",
       "      <td>30</td>\n",
       "      <td>11</td>\n",
       "      <td>32</td>\n",
       "      <td>19</td>\n",
       "      <td>16</td>\n",
       "      <td>10</td>\n",
       "    </tr>\n",
       "    <tr>\n",
       "      <td>24</td>\n",
       "      <td>Chase Pearson (DET)</td>\n",
       "      <td>Maine</td>\n",
       "      <td>F</td>\n",
       "      <td>16</td>\n",
       "      <td>13</td>\n",
       "      <td>29</td>\n",
       "      <td>7</td>\n",
       "      <td>33</td>\n",
       "      <td>12</td>\n",
       "      <td>14</td>\n",
       "      <td>17</td>\n",
       "    </tr>\n",
       "    <tr>\n",
       "      <td>25</td>\n",
       "      <td>Nikita Pavlychev (PIT)</td>\n",
       "      <td>Penn State</td>\n",
       "      <td>F</td>\n",
       "      <td>14</td>\n",
       "      <td>15</td>\n",
       "      <td>29</td>\n",
       "      <td>8</td>\n",
       "      <td>24</td>\n",
       "      <td>22</td>\n",
       "      <td>26</td>\n",
       "      <td>23</td>\n",
       "    </tr>\n",
       "    <tr>\n",
       "      <td>26</td>\n",
       "      <td>Scott Perunovich (STL)</td>\n",
       "      <td>Minnesota Duluth</td>\n",
       "      <td>D</td>\n",
       "      <td>3</td>\n",
       "      <td>26</td>\n",
       "      <td>29</td>\n",
       "      <td>13</td>\n",
       "      <td>38</td>\n",
       "      <td>29</td>\n",
       "      <td>36</td>\n",
       "      <td>16</td>\n",
       "    </tr>\n",
       "    <tr>\n",
       "      <td>27</td>\n",
       "      <td>Marc Del Gaizo (99)</td>\n",
       "      <td>Massachusetts</td>\n",
       "      <td>D</td>\n",
       "      <td>13</td>\n",
       "      <td>16</td>\n",
       "      <td>29</td>\n",
       "      <td>14</td>\n",
       "      <td>48</td>\n",
       "      <td>17</td>\n",
       "      <td>36</td>\n",
       "      <td>13</td>\n",
       "    </tr>\n",
       "  </tbody>\n",
       "</table>\n",
       "</div>"
      ],
      "text/plain": [
       "                    players             school position  goals  assists  \\\n",
       "0          Cale Makar (COL)      Massachusetts        D     16       33   \n",
       "1            Adam Fox (CAR)            Harvard        D      9       39   \n",
       "2         Rem Pitlick (NSH)          Minnesota        F     21       24   \n",
       "3        Evan Barratt (CHI)         Penn State        F     16       27   \n",
       "4       Brandon Kruse (VGK)      Bowling Green        F     10       31   \n",
       "5        John Leonard (SJS)      Massachusetts        F     16       24   \n",
       "6       Chase Priskie (WSH)         Quinnipiac        D     17       22   \n",
       "7          Jack Dugan (VGK)         Providence        F     10       29   \n",
       "8        Joel Farabee (PHI)  Boston University        F     17       19   \n",
       "9       Jeremy Davies (NJD)       Northeastern        D      8       28   \n",
       "10       David Cotton (CAR)     Boston College        F     23       13   \n",
       "11      Morgan Barron (NYR)            Cornell        F     15       19   \n",
       "12   Fredrik Olofsson (CHI)              Omaha        F     10       24   \n",
       "13    Brandon Duhaime (MIN)         Providence        F     11       23   \n",
       "14       Quinn Hughes (VAN)           Michigan        D      5       28   \n",
       "15       Dante Fabbro (NSH)  Boston University        D      7       26   \n",
       "16       Reilly Walsh (NJD)            Harvard        D     12       19   \n",
       "17      Will Lockwood (VAN)           Michigan        F     16       15   \n",
       "18      Ryan Poehling (MTL)    St. Cloud State        F      8       23   \n",
       "19    Brent Gates Jr. (ANA)          Minnesota        F     13       18   \n",
       "20   Tanner Laczynski (PHI)         Ohio State        F     10       20   \n",
       "21        Hugh McGing (STL)   Western Michigan        F     16       14   \n",
       "22   Emilio Pettersen (CGY)             Denver        F      6       24   \n",
       "23  Kasper Björkqvist (PIT)         Providence        F     17       13   \n",
       "24      Chase Pearson (DET)              Maine        F     16       13   \n",
       "25   Nikita Pavlychev (PIT)         Penn State        F     14       15   \n",
       "26   Scott Perunovich (STL)   Minnesota Duluth        D      3       26   \n",
       "27      Marc Del Gaizo (99)      Massachusetts        D     13       16   \n",
       "\n",
       "    points  powerplay_points  plus  minus  blocks  penalties  \n",
       "0       49                15    51     19      41         14  \n",
       "1       48                23    44     21      45          7  \n",
       "2       45                22    32     28      20         15  \n",
       "3       43                 7    43     24      16         22  \n",
       "4       41                21    31     16      14         15  \n",
       "5       40                18    30     16      15          8  \n",
       "6       39                23    40     22      35          6  \n",
       "7       39                12    32     27       8         24  \n",
       "8       36                15    27     23      26         19  \n",
       "9       36                21    40     32      58         15  \n",
       "10      36                14    26     34      17         10  \n",
       "11      34                15    27     18      20         13  \n",
       "12      34                18    27     41      30          6  \n",
       "13      34                10    32     17      16         17  \n",
       "14      33                13    36     38      26          8  \n",
       "15      33                15    34     37      82         14  \n",
       "16      31                18    25     27      27          6  \n",
       "17      31                11    27     19      23         12  \n",
       "18      31                13    35     23      17         13  \n",
       "19      31                11    29     28      18          2  \n",
       "20      30                16    20     18      15          7  \n",
       "21      30                11    28     26      23         22  \n",
       "22      30                10    29     19      21          8  \n",
       "23      30                11    32     19      16         10  \n",
       "24      29                 7    33     12      14         17  \n",
       "25      29                 8    24     22      26         23  \n",
       "26      29                13    38     29      36         16  \n",
       "27      29                14    48     17      36         13  "
      ]
     },
     "execution_count": 3,
     "metadata": {},
     "output_type": "execute_result"
    }
   ],
   "source": [
    "NHLsigned1819 = pd.read_csv('data/NHLsigned20182019.csv', sep=',', usecols=['players','school','position', 'goals','assists','points','powerplay_points','penalties','blocks','plus','minus'])\n",
    "NHLsigned1819"
   ]
  },
  {
   "cell_type": "code",
   "execution_count": 4,
   "metadata": {},
   "outputs": [],
   "source": [
    "### creating a scatterplot of players to signed players\n",
    "\n",
    "\n",
    "\n",
    "#### THIS SCATTER PLOT ONLY LOOKS AT ASSISTS TO POINTS"
   ]
  },
  {
   "cell_type": "code",
   "execution_count": 5,
   "metadata": {},
   "outputs": [
    {
     "data": {
      "text/plain": [
       "<matplotlib.axes._subplots.AxesSubplot at 0x1a1e835810>"
      ]
     },
     "execution_count": 5,
     "metadata": {},
     "output_type": "execute_result"
    },
    {
     "data": {
      "image/png": "[encoded data removed]",
      "text/plain": [
       "<Figure size 432x288 with 1 Axes>"
      ]
     },
     "metadata": {
      "needs_background": "light"
     },
     "output_type": "display_data"
    }
   ],
   "source": [
    "ax = season1819.reset_index().plot(kind='scatter', x='assists', y='points',\n",
    "                                           color='Red', label='All players', s=50)\n",
    "\n",
    "NHLsigned1819.reset_index().plot(kind='scatter', x='assists', y='points',\n",
    "                                          color='Blue', label='NHL signed', ax=ax, s=50)"
   ]
  },
  {
   "cell_type": "code",
   "execution_count": 6,
   "metadata": {},
   "outputs": [],
   "source": [
    "### creating a scatterplot of players to signed players\n",
    "\n",
    "### THIS SCATTER PLOT ONLY  LOOKS AT GOALS TO PLAYERS"
   ]
  },
  {
   "cell_type": "code",
   "execution_count": 7,
   "metadata": {},
   "outputs": [
    {
     "data": {
      "text/plain": [
       "<matplotlib.axes._subplots.AxesSubplot at 0x1a1ea50bd0>"
      ]
     },
     "execution_count": 7,
     "metadata": {},
     "output_type": "execute_result"
    },
    {
     "data": {
      "image/png": "[encoded data removed]",
      "text/plain": [
       "<Figure size 432x288 with 1 Axes>"
      ]
     },
     "metadata": {
      "needs_background": "light"
     },
     "output_type": "display_data"
    }
   ],
   "source": [
    "ax = season1819.reset_index().plot(kind='scatter', x='goals', y='points',\n",
    "                                           color='Red', label='All players', s=50)\n",
    "\n",
    "NHLsigned1819.reset_index().plot(kind='scatter', x='goals', y='points',\n",
    "                                          color='Blue', label='NHL signed', ax=ax, s=50)"
   ]
  },
  {
   "cell_type": "code",
   "execution_count": 8,
   "metadata": {},
   "outputs": [],
   "source": [
    "### THESE SCATTER PLOTS SHOW NO CLUSTERS, BUT THIS IS JUST ANALYSIS ON ALL POSITIONS\n",
    "\n",
    "\n",
    "    ###NOW WE  LOOK AT FORWARDS\n"
   ]
  },
  {
   "cell_type": "code",
   "execution_count": 11,
   "metadata": {},
   "outputs": [],
   "source": [
    "###Sorting to only forwards\n",
    "\n",
    "forwards = season1819[season1819['position']=='F']\n",
    "signedFowards = NHLsigned1819[NHLsigned1819['position']=='F']\n"
   ]
  },
  {
   "cell_type": "code",
   "execution_count": 12,
   "metadata": {},
   "outputs": [
    {
     "data": {
      "text/plain": [
       "<matplotlib.axes._subplots.AxesSubplot at 0x1a1f4f9d90>"
      ]
     },
     "execution_count": 12,
     "metadata": {},
     "output_type": "execute_result"
    },
    {
     "data": {
      "image/png": "[encoded data removed]",
      "text/plain": [
       "<Figure size 432x288 with 1 Axes>"
      ]
     },
     "metadata": {
      "needs_background": "light"
     },
     "output_type": "display_data"
    }
   ],
   "source": [
    "###Scatter plot for  ASSISTS\n",
    "ax = forwards.reset_index().plot(kind='scatter', x='assists', y='points',\n",
    "                                           color='Red', label='All players', s=50)\n",
    "\n",
    "signedFowards.reset_index().plot(kind='scatter', x='assists', y='points',\n",
    "                                          color='Blue', label='NHL signed', ax=ax, s=50)"
   ]
  },
  {
   "cell_type": "code",
   "execution_count": 13,
   "metadata": {},
   "outputs": [
    {
     "data": {
      "text/plain": [
       "<matplotlib.axes._subplots.AxesSubplot at 0x1a1f5fc390>"
      ]
     },
     "execution_count": 13,
     "metadata": {},
     "output_type": "execute_result"
    },
    {
     "data": {
      "image/png": "[encoded data removed]",
      "text/plain": [
       "<Figure size 432x288 with 1 Axes>"
      ]
     },
     "metadata": {
      "needs_background": "light"
     },
     "output_type": "display_data"
    }
   ],
   "source": [
    "##Scatter plot for GOALS\n",
    "\n",
    "ax = forwards.reset_index().plot(kind='scatter', x='goals', y='points',\n",
    "                                           color='Red', label='All players', s=50)\n",
    "\n",
    "signedFowards.reset_index().plot(kind='scatter', x='goals', y='points',\n",
    "                                          color='Blue', label='NHL signed', ax=ax, s=50)"
   ]
  },
  {
   "cell_type": "code",
   "execution_count": 14,
   "metadata": {},
   "outputs": [],
   "source": [
    "##Sorting only Defense\n",
    "defense = season1819[season1819['position']=='D']\n",
    "signedDefense = NHLsigned1819[NHLsigned1819['position']=='D']"
   ]
  },
  {
   "cell_type": "code",
   "execution_count": 15,
   "metadata": {},
   "outputs": [
    {
     "data": {
      "text/plain": [
       "<matplotlib.axes._subplots.AxesSubplot at 0x1a1f6cde50>"
      ]
     },
     "execution_count": 15,
     "metadata": {},
     "output_type": "execute_result"
    },
    {
     "data": {
      "image/png": "[encoded data removed]",
      "text/plain": [
       "<Figure size 432x288 with 1 Axes>"
      ]
     },
     "metadata": {
      "needs_background": "light"
     },
     "output_type": "display_data"
    }
   ],
   "source": [
    "###Scatter plot for  ASSISTS\n",
    "ax = defense.reset_index().plot(kind='scatter', x='assists', y='points',\n",
    "                                           color='Red', label='All players', s=50)\n",
    "\n",
    "signedDefense.reset_index().plot(kind='scatter', x='assists', y='points',\n",
    "                                          color='Blue', label='NHL signed', ax=ax, s=50)"
   ]
  },
  {
   "cell_type": "code",
   "execution_count": 22,
   "metadata": {},
   "outputs": [
    {
     "data": {
      "text/plain": [
       "<matplotlib.axes._subplots.AxesSubplot at 0x1a1f49d350>"
      ]
     },
     "execution_count": 22,
     "metadata": {},
     "output_type": "execute_result"
    },
    {
     "data": {
      "image/png": "[encoded data removed]",
      "text/plain": [
       "<Figure size 432x288 with 1 Axes>"
      ]
     },
     "metadata": {
      "needs_background": "light"
     },
     "output_type": "display_data"
    }
   ],
   "source": [
    "##Scatter plot for GOALS\n",
    "\n",
    "ax = defense.reset_index().plot(kind='scatter', x='goals', y='points',\n",
    "                                           color='Red', label='All players', s=50)\n",
    "\n",
    "signedDefense.reset_index().plot(kind='scatter', x='goals', y='points',\n",
    "                                          color='Blue', label='NHL signed', ax=ax, s=50)"
   ]
  },
  {
   "cell_type": "code",
   "execution_count": 23,
   "metadata": {},
   "outputs": [],
   "source": [
    "##now we are going to compare powerplay_points to penalties"
   ]
  },
  {
   "cell_type": "code",
   "execution_count": 24,
   "metadata": {},
   "outputs": [
    {
     "data": {
      "text/plain": [
       "<matplotlib.axes._subplots.AxesSubplot at 0x1a1f56ba90>"
      ]
     },
     "execution_count": 24,
     "metadata": {},
     "output_type": "execute_result"
    },
    {
     "data": {
      "image/png": "[encoded data removed]",
      "text/plain": [
       "<Figure size 432x288 with 1 Axes>"
      ]
     },
     "metadata": {
      "needs_background": "light"
     },
     "output_type": "display_data"
    }
   ],
   "source": [
    "##ALL PLAYERS\n",
    "ax = season1819.reset_index().plot(kind='scatter', x='powerplay_points', y='penalties',\n",
    "                                           color='red', label='All players', s=50)\n",
    "\n",
    "NHLsigned1819.reset_index().plot(kind='scatter', x='powerplay_points', y='penalties',\n",
    "                                          color='green', label='NHL signed', ax=ax, s=70)\n"
   ]
  },
  {
   "cell_type": "code",
   "execution_count": 25,
   "metadata": {},
   "outputs": [
    {
     "data": {
      "text/plain": [
       "<matplotlib.axes._subplots.AxesSubplot at 0x1a1fd45590>"
      ]
     },
     "execution_count": 25,
     "metadata": {},
     "output_type": "execute_result"
    },
    {
     "data": {
      "image/png": "[encoded data removed]",
      "text/plain": [
       "<Figure size 432x288 with 1 Axes>"
      ]
     },
     "metadata": {
      "needs_background": "light"
     },
     "output_type": "display_data"
    }
   ],
   "source": [
    "##Forwards\n",
    "ax = forwards.reset_index().plot(kind='scatter', x='powerplay_points', y='penalties',\n",
    "                                           color='yellow', label='All players', s=70)\n",
    "\n",
    "signedFowards.reset_index().plot(kind='scatter', x='powerplay_points', y='penalties',\n",
    "                                          color='green', label='NHL signed', ax=ax, s=70)"
   ]
  },
  {
   "cell_type": "code",
   "execution_count": 26,
   "metadata": {},
   "outputs": [
    {
     "data": {
      "text/plain": [
       "<matplotlib.axes._subplots.AxesSubplot at 0x1a1fe1cd50>"
      ]
     },
     "execution_count": 26,
     "metadata": {},
     "output_type": "execute_result"
    },
    {
     "data": {
      "image/png": "[encoded data removed]",
      "text/plain": [
       "<Figure size 432x288 with 1 Axes>"
      ]
     },
     "metadata": {
      "needs_background": "light"
     },
     "output_type": "display_data"
    }
   ],
   "source": [
    "#defense\n",
    "ax = defense.reset_index().plot(kind='scatter', x='powerplay_points', y='penalties',\n",
    "                                           color='blue', label='All players', s=50)\n",
    "\n",
    "signedDefense.reset_index().plot(kind='scatter', x='powerplay_points', y='penalties',\n",
    "                                          color='green', label='NHL signed', ax=ax, s=70)"
   ]
  },
  {
   "cell_type": "code",
   "execution_count": 31,
   "metadata": {},
   "outputs": [
    {
     "data": {
      "text/html": [
       "<div>\n",
       "<style scoped>\n",
       "    .dataframe tbody tr th:only-of-type {\n",
       "        vertical-align: middle;\n",
       "    }\n",
       "\n",
       "    .dataframe tbody tr th {\n",
       "        vertical-align: top;\n",
       "    }\n",
       "\n",
       "    .dataframe thead th {\n",
       "        text-align: right;\n",
       "    }\n",
       "</style>\n",
       "<table border=\"1\" class=\"dataframe\">\n",
       "  <thead>\n",
       "    <tr style=\"text-align: right;\">\n",
       "      <th></th>\n",
       "      <th>school</th>\n",
       "    </tr>\n",
       "  </thead>\n",
       "  <tbody>\n",
       "    <tr>\n",
       "      <td>0</td>\n",
       "      <td>Massachusetts</td>\n",
       "    </tr>\n",
       "    <tr>\n",
       "      <td>1</td>\n",
       "      <td>Harvard</td>\n",
       "    </tr>\n",
       "    <tr>\n",
       "      <td>2</td>\n",
       "      <td>Minnesota</td>\n",
       "    </tr>\n",
       "    <tr>\n",
       "      <td>3</td>\n",
       "      <td>Penn State</td>\n",
       "    </tr>\n",
       "    <tr>\n",
       "      <td>4</td>\n",
       "      <td>Bowling Green</td>\n",
       "    </tr>\n",
       "    <tr>\n",
       "      <td>5</td>\n",
       "      <td>Massachusetts</td>\n",
       "    </tr>\n",
       "    <tr>\n",
       "      <td>6</td>\n",
       "      <td>Quinnipiac</td>\n",
       "    </tr>\n",
       "    <tr>\n",
       "      <td>7</td>\n",
       "      <td>Providence</td>\n",
       "    </tr>\n",
       "    <tr>\n",
       "      <td>8</td>\n",
       "      <td>Boston University</td>\n",
       "    </tr>\n",
       "    <tr>\n",
       "      <td>9</td>\n",
       "      <td>Northeastern</td>\n",
       "    </tr>\n",
       "    <tr>\n",
       "      <td>10</td>\n",
       "      <td>Boston College</td>\n",
       "    </tr>\n",
       "    <tr>\n",
       "      <td>11</td>\n",
       "      <td>Cornell</td>\n",
       "    </tr>\n",
       "    <tr>\n",
       "      <td>12</td>\n",
       "      <td>Omaha</td>\n",
       "    </tr>\n",
       "    <tr>\n",
       "      <td>13</td>\n",
       "      <td>Providence</td>\n",
       "    </tr>\n",
       "    <tr>\n",
       "      <td>14</td>\n",
       "      <td>Michigan</td>\n",
       "    </tr>\n",
       "    <tr>\n",
       "      <td>15</td>\n",
       "      <td>Boston University</td>\n",
       "    </tr>\n",
       "    <tr>\n",
       "      <td>16</td>\n",
       "      <td>Harvard</td>\n",
       "    </tr>\n",
       "    <tr>\n",
       "      <td>17</td>\n",
       "      <td>Michigan</td>\n",
       "    </tr>\n",
       "    <tr>\n",
       "      <td>18</td>\n",
       "      <td>St. Cloud State</td>\n",
       "    </tr>\n",
       "    <tr>\n",
       "      <td>19</td>\n",
       "      <td>Minnesota</td>\n",
       "    </tr>\n",
       "    <tr>\n",
       "      <td>20</td>\n",
       "      <td>Ohio State</td>\n",
       "    </tr>\n",
       "    <tr>\n",
       "      <td>21</td>\n",
       "      <td>Western Michigan</td>\n",
       "    </tr>\n",
       "    <tr>\n",
       "      <td>22</td>\n",
       "      <td>Denver</td>\n",
       "    </tr>\n",
       "    <tr>\n",
       "      <td>23</td>\n",
       "      <td>Providence</td>\n",
       "    </tr>\n",
       "    <tr>\n",
       "      <td>24</td>\n",
       "      <td>Maine</td>\n",
       "    </tr>\n",
       "    <tr>\n",
       "      <td>25</td>\n",
       "      <td>Penn State</td>\n",
       "    </tr>\n",
       "    <tr>\n",
       "      <td>26</td>\n",
       "      <td>Minnesota Duluth</td>\n",
       "    </tr>\n",
       "    <tr>\n",
       "      <td>27</td>\n",
       "      <td>Massachusetts</td>\n",
       "    </tr>\n",
       "  </tbody>\n",
       "</table>\n",
       "</div>"
      ],
      "text/plain": [
       "               school\n",
       "0       Massachusetts\n",
       "1             Harvard\n",
       "2           Minnesota\n",
       "3          Penn State\n",
       "4       Bowling Green\n",
       "5       Massachusetts\n",
       "6          Quinnipiac\n",
       "7          Providence\n",
       "8   Boston University\n",
       "9        Northeastern\n",
       "10     Boston College\n",
       "11            Cornell\n",
       "12              Omaha\n",
       "13         Providence\n",
       "14           Michigan\n",
       "15  Boston University\n",
       "16            Harvard\n",
       "17           Michigan\n",
       "18    St. Cloud State\n",
       "19          Minnesota\n",
       "20         Ohio State\n",
       "21   Western Michigan\n",
       "22             Denver\n",
       "23         Providence\n",
       "24              Maine\n",
       "25         Penn State\n",
       "26   Minnesota Duluth\n",
       "27      Massachusetts"
      ]
     },
     "execution_count": 31,
     "metadata": {},
     "output_type": "execute_result"
    }
   ],
   "source": [
    "###which school has the most NHL Signed\n",
    "\n",
    "\n",
    "NHLsigned1819schools = pd.read_csv('data/NHLsigned20182019.csv', sep=',', usecols=['school'])\n",
    "NHLsigned1819schools"
   ]
  },
  {
   "cell_type": "code",
   "execution_count": 32,
   "metadata": {},
   "outputs": [
    {
     "data": {
      "text/plain": [
       "<matplotlib.axes._subplots.AxesSubplot at 0x1a201594d0>"
      ]
     },
     "execution_count": 32,
     "metadata": {},
     "output_type": "execute_result"
    },
    {
     "data": {
      "image/png": "[encoded data removed]",
      "text/plain": [
       "<Figure size 432x288 with 1 Axes>"
      ]
     },
     "metadata": {
      "needs_background": "light"
     },
     "output_type": "display_data"
    }
   ],
   "source": [
    "NHLsigned1819schools['school'].value_counts().plot(kind='barh')"
   ]
  },
  {
   "cell_type": "code",
   "execution_count": 33,
   "metadata": {},
   "outputs": [
    {
     "data": {
      "text/plain": [
       "<matplotlib.axes._subplots.AxesSubplot at 0x1a20212650>"
      ]
     },
     "execution_count": 33,
     "metadata": {},
     "output_type": "execute_result"
    },
    {
     "data": {
      "image/png": "[encoded data removed]",
      "text/plain": [
       "<Figure size 432x288 with 1 Axes>"
      ]
     },
     "metadata": {
      "needs_background": "light"
     },
     "output_type": "display_data"
    }
   ],
   "source": [
    "ax = defense.reset_index().plot(kind='scatter', x='goals', y='assists',\n",
    "                                           color='yellow', label='All players', s=50)\n",
    "\n",
    "signedDefense.reset_index().plot(kind='scatter', x='goals', y='assists',\n",
    "                                          color='Blue', label='NHL signed', ax=ax, s=50)"
   ]
  },
  {
   "cell_type": "code",
   "execution_count": null,
   "metadata": {},
   "outputs": [],
   "source": []
  }
 ],
 "metadata": {
  "kernelspec": {
   "display_name": "Python 3",
   "language": "python",
   "name": "python3"
  },
  "language_info": {
   "codemirror_mode": {
    "name": "ipython",
    "version": 3
   },
   "file_extension": ".py",
   "mimetype": "text/x-python",
   "name": "python",
   "nbconvert_exporter": "python",
   "pygments_lexer": "ipython3",
   "version": "3.7.4"
  }
 },
 "nbformat": 4,
 "nbformat_minor": 2
}
